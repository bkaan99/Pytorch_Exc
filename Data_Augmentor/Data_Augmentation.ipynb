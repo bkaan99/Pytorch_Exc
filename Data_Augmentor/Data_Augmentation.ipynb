{
 "cells": [
  {
   "attachments": {},
   "cell_type": "markdown",
   "metadata": {},
   "source": [
    "### This Notebook Written By Bilge Kaan Gürgen"
   ]
  },
  {
   "cell_type": "code",
   "execution_count": 1,
   "metadata": {},
   "outputs": [],
   "source": [
    "import torch\n",
    "import torchvision\n",
    "import torchvision.transforms as transforms\n",
    "\n",
    "import os\n",
    "import pandas as pd\n",
    "from torch.utils.data import Dataset, DataLoader\n",
    "from skimage import io\n",
    "\n",
    "import warnings\n",
    "warnings.filterwarnings(\"ignore\")\n"
   ]
  },
  {
   "attachments": {},
   "cell_type": "markdown",
   "metadata": {},
   "source": [
    "## Veri Dahil etme"
   ]
  },
  {
   "cell_type": "code",
   "execution_count": 2,
   "metadata": {},
   "outputs": [],
   "source": [
    "class veri(Dataset):\n",
    "    def __init__(self, csv_file, root_dir, transform=None):\n",
    "        self.annotations = pd.read_csv(csv_file)\n",
    "        self.root_dir = root_dir\n",
    "        self.transform = transform\n",
    "\n",
    "    def __len__(self):\n",
    "        return len(self.annotations)\n",
    "\n",
    "    def __getitem__(self, index):\n",
    "        img_path = os.path.join(self.root_dir, self.annotations.iloc[index, 0])\n",
    "        image = io.imread(img_path)\n",
    "        y_label = torch.tensor(int(self.annotations.iloc[index, 1]))\n",
    "\n",
    "        if self.transform:\n",
    "            image = self.transform(image)\n",
    "\n",
    "        return (image, y_label)"
   ]
  },
  {
   "attachments": {},
   "cell_type": "markdown",
   "metadata": {},
   "source": [
    "### Data Augmentation (veri artırma) ve veri hazırlama"
   ]
  },
  {
   "cell_type": "code",
   "execution_count": 3,
   "metadata": {},
   "outputs": [],
   "source": [
    "import torchvision.transforms as transforms\n",
    "\n",
    "veri_artırımı = transforms.Compose([\n",
    "\n",
    "    transforms.ToPILImage(),\n",
    "\n",
    "    transforms.Resize((500, 500)),\n",
    "\n",
    "    #transforms.CenterCrop(),\n",
    "\n",
    "    #transforms.RandomCrop(32,32),\n",
    "\n",
    "    transforms.ColorJitter(brightness=0.5),\n",
    "\n",
    "    transforms.RandomRotation(45),\n",
    "\n",
    "    transforms.RandomVerticalFlip(0.05),\n",
    "\n",
    "    transforms.ToTensor(),\n",
    "    \n",
    "    transforms.Normalize((0.5, 0.5, 0.5), (0.5, 0.5, 0.5)),\n",
    "\n",
    "    #transforms.GaussianBlur(1),\n",
    "\n",
    "    #transforms.Grayscale(num_output_channels=3),\n",
    "\n",
    "    #transforms.RandomPerspective()\n",
    "\n",
    "])\n"
   ]
  },
  {
   "cell_type": "code",
   "execution_count": 4,
   "metadata": {},
   "outputs": [],
   "source": [
    "dataset = veri(\n",
    "    csv_file=r\"D:\\udemyaicourse\\Main\\Pytorch Preprocess, Train, Prediction\\formula_data_and_label\\label\\labelf1.csv\",\n",
    "    root_dir=r\"D:\\udemyaicourse\\Main\\Pytorch Preprocess, Train, Prediction\\formula_data_and_label\\images\",\n",
    "    transform=veri_artırımı\n",
    ")"
   ]
  },
  {
   "cell_type": "code",
   "execution_count": 7,
   "metadata": {},
   "outputs": [
    {
     "name": "stdout",
     "output_type": "stream",
     "text": [
      "Collecting torch-utils\n",
      "  Downloading torch-utils-0.1.2.tar.gz (4.9 kB)\n",
      "  Preparing metadata (setup.py): started\n",
      "  Preparing metadata (setup.py): finished with status 'done'\n",
      "Requirement already satisfied: torch in c:\\users\\kaan.gurgen\\anaconda3\\envs\\udemyaicourse\\lib\\site-packages (from torch-utils) (1.13.1)\n",
      "Requirement already satisfied: typing-extensions in c:\\users\\kaan.gurgen\\anaconda3\\envs\\udemyaicourse\\lib\\site-packages (from torch->torch-utils) (4.4.0)\n",
      "Building wheels for collected packages: torch-utils\n",
      "  Building wheel for torch-utils (setup.py): started\n",
      "  Building wheel for torch-utils (setup.py): finished with status 'done'\n",
      "  Created wheel for torch-utils: filename=torch_utils-0.1.2-py3-none-any.whl size=6205 sha256=8a6690eaae014f1386431007785882ec33e03380f4f4262d81067f68ee3a5691\n",
      "  Stored in directory: c:\\users\\kaan.gurgen\\appdata\\local\\pip\\cache\\wheels\\34\\85\\59\\1b0a3c6c54d4b49d2056edb01c2cb526260c9e5ad87c74adb8\n",
      "Successfully built torch-utils\n",
      "Installing collected packages: torch-utils\n",
      "Successfully installed torch-utils-0.1.2\n",
      "Note: you may need to restart the kernel to use updated packages.\n"
     ]
    }
   ],
   "source": [
    "pip install torch-utils"
   ]
  },
  {
   "attachments": {},
   "cell_type": "markdown",
   "metadata": {},
   "source": [
    "## Augmentor"
   ]
  },
  {
   "cell_type": "code",
   "execution_count": 13,
   "metadata": {},
   "outputs": [],
   "source": [
    "from torchvision.utils import save_image\n",
    "\n",
    "foto_sayi=0\n",
    "for i in range(1):\n",
    "    for image,label in dataset:\n",
    "        save_image(image, f\"augmented_data/{foto_sayi}.jpg\")\n",
    "        foto_sayi+=1"
   ]
  }
 ],
 "metadata": {
  "kernelspec": {
   "display_name": "udemyaicourse",
   "language": "python",
   "name": "python3"
  },
  "language_info": {
   "codemirror_mode": {
    "name": "ipython",
    "version": 3
   },
   "file_extension": ".py",
   "mimetype": "text/x-python",
   "name": "python",
   "nbconvert_exporter": "python",
   "pygments_lexer": "ipython3",
   "version": "3.7.12 | packaged by conda-forge | (default, Oct 26 2021, 05:35:01) [MSC v.1916 64 bit (AMD64)]"
  },
  "orig_nbformat": 4,
  "vscode": {
   "interpreter": {
    "hash": "0973e1091a775b1a28ccaa97df0c0898d7ba4f89de18815c805abc755804a0f6"
   }
  }
 },
 "nbformat": 4,
 "nbformat_minor": 2
}
