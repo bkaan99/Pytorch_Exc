{
 "cells": [
  {
   "attachments": {},
   "cell_type": "markdown",
   "metadata": {},
   "source": [
    "### This Notebook Written By Bilge Kaan Gürgen"
   ]
  },
  {
   "cell_type": "code",
   "execution_count": 1,
   "metadata": {},
   "outputs": [],
   "source": [
    "import torch\n",
    "import torchvision\n",
    "import torchvision.transforms as transforms\n",
    "\n",
    "import os\n",
    "import pandas as pd\n",
    "from torch.utils.data import Dataset, DataLoader\n",
    "from skimage import io\n",
    "import time\n",
    "\n",
    "import warnings\n",
    "warnings.filterwarnings(\"ignore\")"
   ]
  },
  {
   "cell_type": "code",
   "execution_count": 2,
   "metadata": {},
   "outputs": [],
   "source": [
    "class veri(Dataset):\n",
    "    def __init__(self, csv_file, root_dir, transform=None):\n",
    "        self.annotations = pd.read_csv(csv_file)\n",
    "        self.root_dir = root_dir\n",
    "        self.transform = transform\n",
    "\n",
    "    def __len__(self):\n",
    "        return len(self.annotations)\n",
    "\n",
    "    def __getitem__(self, index):\n",
    "        img_path = os.path.join(self.root_dir, self.annotations.iloc[index, 0])\n",
    "        image = io.imread(img_path)\n",
    "        y_label = torch.tensor(int(self.annotations.iloc[index, 1]))\n",
    "\n",
    "        if self.transform:\n",
    "            image = self.transform(image)\n",
    "\n",
    "        return (image, y_label)"
   ]
  },
  {
   "cell_type": "code",
   "execution_count": 3,
   "metadata": {},
   "outputs": [],
   "source": [
    "dataset = veri(\n",
    "    csv_file=r\"D:\\udemyaicourse\\Main\\Pytorch Preprocess, Train, Prediction\\formula_data_and_label\\label\\labelf1.csv\",\n",
    "    root_dir=r\"D:\\udemyaicourse\\Main\\Pytorch Preprocess, Train, Prediction\\formula_data_and_label\\images\",\n",
    "    transform=torchvision.transforms.Compose([\n",
    "    transforms.ToTensor(),\n",
    "    transforms.Resize(size=(28,28)),\n",
    "    transforms.Normalize((0.5,0.5,0.5), (0.5,0.5,0.5)),\n",
    "    ]))"
   ]
  },
  {
   "cell_type": "code",
   "execution_count": 4,
   "metadata": {},
   "outputs": [
    {
     "data": {
      "text/plain": [
       "<__main__.veri at 0x13a26417fc8>"
      ]
     },
     "execution_count": 4,
     "metadata": {},
     "output_type": "execute_result"
    }
   ],
   "source": [
    "dataset"
   ]
  },
  {
   "cell_type": "code",
   "execution_count": 5,
   "metadata": {},
   "outputs": [],
   "source": [
    "train_set, test_set = torch.utils.data.random_split(dataset, [200, 79])\n",
    "train_loader = DataLoader(dataset=train_set, batch_size=1, shuffle=True)\n",
    "test_loader = DataLoader(dataset=test_set, batch_size=1, shuffle=True)"
   ]
  },
  {
   "cell_type": "code",
   "execution_count": 6,
   "metadata": {},
   "outputs": [
    {
     "data": {
      "text/plain": [
       "<torch.utils.data.dataset.Subset at 0x13a3c344448>"
      ]
     },
     "execution_count": 6,
     "metadata": {},
     "output_type": "execute_result"
    }
   ],
   "source": [
    "train_set"
   ]
  },
  {
   "cell_type": "code",
   "execution_count": 7,
   "metadata": {},
   "outputs": [
    {
     "data": {
      "text/plain": [
       "<torch.utils.data.dataloader.DataLoader at 0x13a14719208>"
      ]
     },
     "execution_count": 7,
     "metadata": {},
     "output_type": "execute_result"
    }
   ],
   "source": [
    "train_loader"
   ]
  },
  {
   "cell_type": "code",
   "execution_count": 8,
   "metadata": {},
   "outputs": [
    {
     "data": {
      "image/png": "[encoded data removed]",
      "text/plain": [
       "<Figure size 640x480 with 1 Axes>"
      ]
     },
     "metadata": {},
     "output_type": "display_data"
    },
    {
     "name": "stdout",
     "output_type": "stream",
     "text": [
      "Redbull\n",
      "torch.Size([1, 3, 28, 28])\n"
     ]
    }
   ],
   "source": [
    "import matplotlib.pyplot as plt\n",
    "import numpy as np\n",
    "batch_size = 1\n",
    "classes = [\"Ferrari\", \"McLaren\",\"Mercedes\",\"Redbull\"]\n",
    "\n",
    "def imshow(img):\n",
    "    img = img / 2 + 0.5     # unnormalize\n",
    "    npimg = img.numpy()\n",
    "    plt.imshow(np.transpose(npimg, (1, 2, 0)))\n",
    "    plt.show()\n",
    "\n",
    "dataiter = iter(train_loader)\n",
    "images, labels = next(dataiter)\n",
    "\n",
    "imshow(torchvision.utils.make_grid(images))\n",
    "print(' '.join('%5s' % classes[labels[j]] for j in range(batch_size)))\n",
    "print(images.size())"
   ]
  },
  {
   "cell_type": "code",
   "execution_count": 9,
   "metadata": {},
   "outputs": [],
   "source": [
    "import torch.nn as nn"
   ]
  },
  {
   "cell_type": "code",
   "execution_count": 10,
   "metadata": {},
   "outputs": [],
   "source": [
    "class Net(nn.Module):\n",
    "    def __init__(self):\n",
    "        super(Net, self).__init__()\n",
    "        self.conv1 = nn.Conv2d(3, 4, (5,5))\n",
    "        self.conv2 = nn.Conv2d(4, 8, (3,3))\n",
    "        self.conv3 = nn.Conv2d(8, 16, (2,2))\n",
    "        self.conv4 = nn.Conv2d(16, 32, (2,2))\n",
    "\n",
    "\n",
    "        self.max = nn.MaxPool2d(kernel_size=(2, 2))\n",
    "        \n",
    "        self.func = nn.ELU()\n",
    "        self.func1 = nn.ReLU()\n",
    "\n",
    "        self.fc1 = nn.Linear(64, 50) # tensorflow da dense diye geçiyor torch da lineer\n",
    "        self.fc2 = nn.Linear(50, 50)\n",
    "        self.fc3 = nn.Linear(50, 100)\n",
    "        self.fc4 = nn.Linear(100, 4)\n",
    "        \n",
    "\n",
    "    def forward(self, x):\n",
    "        x = self.conv1(x)\n",
    "        x = self.func(x)\n",
    "\n",
    "        x = self.max(x)\n",
    "\n",
    "        x = self.conv2(x)\n",
    "        x = self.func(x)\n",
    "\n",
    "        x = self.max(x)\n",
    "\n",
    "        x = self.conv3(x)\n",
    "        x = self.func(x)\n",
    "\n",
    "        x = self.max(x)\n",
    "\n",
    "        x =x.view(x.size(0), -1)\n",
    "\n",
    "        x = self.fc1(x)\n",
    "        x = self.func(x)\n",
    "        x = self.fc2(x)\n",
    "        x = self.func(x)\n",
    "        x = self.fc3(x)\n",
    "        x = self.func(x)\n",
    "        x = self.fc4(x)\n",
    "        x = self.func(x)\n",
    "\n",
    "        return x"
   ]
  },
  {
   "attachments": {},
   "cell_type": "markdown",
   "metadata": {},
   "source": [
    "# Tensorboard install\n"
   ]
  },
  {
   "cell_type": "code",
   "execution_count": 11,
   "metadata": {},
   "outputs": [
    {
     "name": "stdout",
     "output_type": "stream",
     "text": [
      "Requirement already satisfied: tensorboard in c:\\users\\kaan.gurgen\\anaconda3\\envs\\udemyaicourse\\lib\\site-packages (2.11.0)\n",
      "Requirement already satisfied: absl-py>=0.4 in c:\\users\\kaan.gurgen\\anaconda3\\envs\\udemyaicourse\\lib\\site-packages (from tensorboard) (1.3.0)\n",
      "Requirement already satisfied: protobuf<4,>=3.9.2 in c:\\users\\kaan.gurgen\\anaconda3\\envs\\udemyaicourse\\lib\\site-packages (from tensorboard) (3.20.3)\n",
      "Requirement already satisfied: google-auth-oauthlib<0.5,>=0.4.1 in c:\\users\\kaan.gurgen\\anaconda3\\envs\\udemyaicourse\\lib\\site-packages (from tensorboard) (0.4.6)\n",
      "Requirement already satisfied: numpy>=1.12.0 in c:\\users\\kaan.gurgen\\anaconda3\\envs\\udemyaicourse\\lib\\site-packages (from tensorboard) (1.21.6)\n",
      "Requirement already satisfied: werkzeug>=1.0.1 in c:\\users\\kaan.gurgen\\anaconda3\\envs\\udemyaicourse\\lib\\site-packages (from tensorboard) (2.2.2)\n",
      "Requirement already satisfied: setuptools>=41.0.0 in c:\\users\\kaan.gurgen\\anaconda3\\envs\\udemyaicourse\\lib\\site-packages (from tensorboard) (65.6.3)\n",
      "Requirement already satisfied: markdown>=2.6.8 in c:\\users\\kaan.gurgen\\anaconda3\\envs\\udemyaicourse\\lib\\site-packages (from tensorboard) (3.4.1)\n",
      "Requirement already satisfied: grpcio>=1.24.3 in c:\\users\\kaan.gurgen\\anaconda3\\envs\\udemyaicourse\\lib\\site-packages (from tensorboard) (1.51.1)\n",
      "Requirement already satisfied: google-auth<3,>=1.6.3 in c:\\users\\kaan.gurgen\\anaconda3\\envs\\udemyaicourse\\lib\\site-packages (from tensorboard) (2.15.0)\n",
      "Requirement already satisfied: tensorboard-data-server<0.7.0,>=0.6.0 in c:\\users\\kaan.gurgen\\anaconda3\\envs\\udemyaicourse\\lib\\site-packages (from tensorboard) (0.6.1)\n",
      "Requirement already satisfied: tensorboard-plugin-wit>=1.6.0 in c:\\users\\kaan.gurgen\\anaconda3\\envs\\udemyaicourse\\lib\\site-packages (from tensorboard) (1.8.1)\n",
      "Requirement already satisfied: wheel>=0.26 in c:\\users\\kaan.gurgen\\anaconda3\\envs\\udemyaicourse\\lib\\site-packages (from tensorboard) (0.38.4)\n",
      "Requirement already satisfied: requests<3,>=2.21.0 in c:\\users\\kaan.gurgen\\anaconda3\\envs\\udemyaicourse\\lib\\site-packages (from tensorboard) (2.28.1)\n",
      "Requirement already satisfied: rsa<5,>=3.1.4 in c:\\users\\kaan.gurgen\\anaconda3\\envs\\udemyaicourse\\lib\\site-packages (from google-auth<3,>=1.6.3->tensorboard) (4.9)\n",
      "Requirement already satisfied: six>=1.9.0 in c:\\users\\kaan.gurgen\\anaconda3\\envs\\udemyaicourse\\lib\\site-packages (from google-auth<3,>=1.6.3->tensorboard) (1.16.0)\n",
      "Requirement already satisfied: cachetools<6.0,>=2.0.0 in c:\\users\\kaan.gurgen\\anaconda3\\envs\\udemyaicourse\\lib\\site-packages (from google-auth<3,>=1.6.3->tensorboard) (5.2.0)\n",
      "Requirement already satisfied: pyasn1-modules>=0.2.1 in c:\\users\\kaan.gurgen\\anaconda3\\envs\\udemyaicourse\\lib\\site-packages (from google-auth<3,>=1.6.3->tensorboard) (0.2.8)\n",
      "Requirement already satisfied: requests-oauthlib>=0.7.0 in c:\\users\\kaan.gurgen\\anaconda3\\envs\\udemyaicourse\\lib\\site-packages (from google-auth-oauthlib<0.5,>=0.4.1->tensorboard) (1.3.1)\n",
      "Requirement already satisfied: importlib-metadata>=4.4 in c:\\users\\kaan.gurgen\\anaconda3\\envs\\udemyaicourse\\lib\\site-packages (from markdown>=2.6.8->tensorboard) (5.2.0)\n",
      "Requirement already satisfied: idna<4,>=2.5 in c:\\users\\kaan.gurgen\\anaconda3\\envs\\udemyaicourse\\lib\\site-packages (from requests<3,>=2.21.0->tensorboard) (3.4)\n",
      "Requirement already satisfied: urllib3<1.27,>=1.21.1 in c:\\users\\kaan.gurgen\\anaconda3\\envs\\udemyaicourse\\lib\\site-packages (from requests<3,>=2.21.0->tensorboard) (1.26.13)\n",
      "Requirement already satisfied: certifi>=2017.4.17 in c:\\users\\kaan.gurgen\\anaconda3\\envs\\udemyaicourse\\lib\\site-packages (from requests<3,>=2.21.0->tensorboard) (2022.12.7)\n",
      "Requirement already satisfied: charset-normalizer<3,>=2 in c:\\users\\kaan.gurgen\\anaconda3\\envs\\udemyaicourse\\lib\\site-packages (from requests<3,>=2.21.0->tensorboard) (2.1.1)\n",
      "Requirement already satisfied: MarkupSafe>=2.1.1 in c:\\users\\kaan.gurgen\\anaconda3\\envs\\udemyaicourse\\lib\\site-packages (from werkzeug>=1.0.1->tensorboard) (2.1.1)\n",
      "Requirement already satisfied: typing-extensions>=3.6.4 in c:\\users\\kaan.gurgen\\anaconda3\\envs\\udemyaicourse\\lib\\site-packages (from importlib-metadata>=4.4->markdown>=2.6.8->tensorboard) (4.4.0)\n",
      "Requirement already satisfied: zipp>=0.5 in c:\\users\\kaan.gurgen\\anaconda3\\envs\\udemyaicourse\\lib\\site-packages (from importlib-metadata>=4.4->markdown>=2.6.8->tensorboard) (3.11.0)\n",
      "Requirement already satisfied: pyasn1<0.5.0,>=0.4.6 in c:\\users\\kaan.gurgen\\anaconda3\\envs\\udemyaicourse\\lib\\site-packages (from pyasn1-modules>=0.2.1->google-auth<3,>=1.6.3->tensorboard) (0.4.8)\n",
      "Requirement already satisfied: oauthlib>=3.0.0 in c:\\users\\kaan.gurgen\\anaconda3\\envs\\udemyaicourse\\lib\\site-packages (from requests-oauthlib>=0.7.0->google-auth-oauthlib<0.5,>=0.4.1->tensorboard) (3.2.2)\n",
      "Note: you may need to restart the kernel to use updated packages.\n"
     ]
    }
   ],
   "source": [
    "pip install tensorboard"
   ]
  },
  {
   "cell_type": "code",
   "execution_count": 18,
   "metadata": {},
   "outputs": [
    {
     "name": "stdout",
     "output_type": "stream",
     "text": [
      "epoch 0 total_correct: 49 loss: 575.1561822891235\n",
      "epoch 1 total_correct: 51 loss: 277.25887298583984\n",
      "epoch 2 total_correct: 51 loss: 277.25887298583984\n",
      "epoch 3 total_correct: 51 loss: 277.25887298583984\n",
      "epoch 4 total_correct: 51 loss: 277.25887298583984\n",
      "epoch 0 total_correct: 50 loss: 12158.135392189026\n",
      "epoch 1 total_correct: 51 loss: 554.5177459716797\n",
      "epoch 2 total_correct: 51 loss: 554.5177459716797\n",
      "epoch 3 total_correct: 51 loss: 554.5177459716797\n",
      "epoch 4 total_correct: 51 loss: 554.5177459716797\n",
      "epoch 0 total_correct: 48 loss: 292.5259252637625\n",
      "epoch 1 total_correct: 52 loss: 277.28316938877106\n",
      "epoch 2 total_correct: 58 loss: 277.15849351882935\n",
      "epoch 3 total_correct: 50 loss: 333.53292882442474\n",
      "epoch 4 total_correct: 51 loss: 277.25887298583984\n",
      "epoch 0 total_correct: 59 loss: 610.5600322857499\n",
      "epoch 1 total_correct: 55 loss: 566.9774369001389\n",
      "epoch 2 total_correct: 49 loss: 554.5188066959381\n",
      "epoch 3 total_correct: 48 loss: 554.5179495811462\n",
      "epoch 4 total_correct: 47 loss: 554.5178859233856\n",
      "epoch 0 total_correct: 59 loss: 271.0171772837639\n",
      "epoch 1 total_correct: 113 loss: 198.49698174372315\n",
      "epoch 2 total_correct: 131 loss: 153.0007597282529\n",
      "epoch 3 total_correct: 152 loss: 114.12207170529291\n",
      "epoch 4 total_correct: 157 loss: 102.20886311218783\n",
      "epoch 0 total_correct: 72 loss: 495.87209340184927\n",
      "epoch 1 total_correct: 115 loss: 364.7841884344816\n",
      "epoch 2 total_correct: 144 loss: 279.9342614170164\n",
      "epoch 3 total_correct: 146 loss: 254.36169030470774\n",
      "epoch 4 total_correct: 158 loss: 225.12747888453305\n",
      "süre: 216.1334626674652\n"
     ]
    }
   ],
   "source": [
    "start = time.time()\n",
    "\n",
    "def get_num_correct(preds, labels):\n",
    "    return preds.argmax(dim=1).eq(labels).sum().item()\n",
    "\n",
    "\n",
    "parametre= dict(lr=[0.1, 0.01, 0.001], batch_size=[1,2])\n",
    "parametre_values = [v for v in parametre.values()]\n",
    "\n",
    "from itertools import product\n",
    "from torch.utils.tensorboard import SummaryWriter\n",
    "\n",
    "for lr, batch_size in product(*parametre_values):\n",
    "\n",
    "    model = Net()\n",
    "    optimizer = torch.optim.Adam(model.parameters(), lr=lr)\n",
    "    error = nn.CrossEntropyLoss()\n",
    "\n",
    "    images, labels = next(iter(train_loader))\n",
    "    grid = torchvision.utils.make_grid(images)\n",
    "\n",
    "    tensorboard = SummaryWriter(comment=f'batch_size={batch_size} lr={lr}')\n",
    "    tensorboard.add_image('images', grid)\n",
    "    tensorboard.add_graph(model, images)\n",
    "\n",
    "    for epoch in range(5):\n",
    "        total_loss = 0\n",
    "        total_correct = 0\n",
    "\n",
    "        for i,(images,labels) in enumerate (train_loader):\n",
    "            preds = model(images)\n",
    "            loss = error(preds, labels)\n",
    "\n",
    "            optimizer.zero_grad()\n",
    "            loss.backward()\n",
    "            optimizer.step()\n",
    "\n",
    "            total_loss += loss.item() * batch_size\n",
    "            total_correct += get_num_correct(preds, labels)\n",
    "\n",
    "        tensorboard.add_scalar('Loss', total_loss, epoch)\n",
    "        tensorboard.add_scalar('Number Correct', total_correct, epoch)\n",
    "        tensorboard.add_scalar('Accuracy', total_correct/len(train_set), epoch)\n",
    "        tensorboard.add_hparams({\"lr\": lr, \"batch_size\": batch_size}, \n",
    "        {\"accuracy\": total_correct/len(train_set), \"loss\": total_loss})\n",
    "\n",
    "\n",
    "        for name,param in model.named_parameters():\n",
    "            tensorboard.add_histogram(name, param, epoch)\n",
    "\n",
    "        print(\"epoch\", epoch, \"total_correct:\", total_correct, \"loss:\", total_loss)\n",
    "        tensorboard.close()   \n",
    "\n",
    "end = time.time()\n",
    "print(\"süre:\", end-start)"
   ]
  },
  {
   "cell_type": "code",
   "execution_count": 19,
   "metadata": {},
   "outputs": [
    {
     "ename": "SyntaxError",
     "evalue": "can't assign to operator (3224537314.py, line 1)",
     "output_type": "error",
     "traceback": [
      "\u001b[1;36m  File \u001b[1;32m\"C:\\Users\\kaan.gurgen\\AppData\\Local\\Temp\\ipykernel_17792\\3224537314.py\"\u001b[1;36m, line \u001b[1;32m1\u001b[0m\n\u001b[1;33m    tensorboard --logdir=runs\u001b[0m\n\u001b[1;37m                             ^\u001b[0m\n\u001b[1;31mSyntaxError\u001b[0m\u001b[1;31m:\u001b[0m can't assign to operator\n"
     ]
    }
   ],
   "source": [
    "tensorboard --logdir=runs"
   ]
  }
 ],
 "metadata": {
  "kernelspec": {
   "display_name": "udemyaicourse",
   "language": "python",
   "name": "python3"
  },
  "language_info": {
   "codemirror_mode": {
    "name": "ipython",
    "version": 3
   },
   "file_extension": ".py",
   "mimetype": "text/x-python",
   "name": "python",
   "nbconvert_exporter": "python",
   "pygments_lexer": "ipython3",
   "version": "3.7.12 | packaged by conda-forge | (default, Oct 26 2021, 05:35:01) [MSC v.1916 64 bit (AMD64)]"
  },
  "orig_nbformat": 4,
  "vscode": {
   "interpreter": {
    "hash": "0973e1091a775b1a28ccaa97df0c0898d7ba4f89de18815c805abc755804a0f6"
   }
  }
 },
 "nbformat": 4,
 "nbformat_minor": 2
}
